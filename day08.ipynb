{
 "cells": [
  {
   "cell_type": "markdown",
   "metadata": {},
   "source": [
    "# Day 8: Haunted Wasteland\n",
    "\n",
    "You're still riding a camel across Desert Island when you spot a sandstorm quickly approaching. When you turn to warn the Elf, she disappears before your eyes! To be fair, she had just finished warning you about ghosts a few minutes ago.\n",
    "\n",
    "One of the camel's pouches is labeled \"maps\" - sure enough, it's full of documents (your puzzle input) about how to navigate the desert. At least, you're pretty sure that's what they are; one of the documents contains a list of left/right instructions, and the rest of the documents seem to describe some kind of network of labeled nodes.\n",
    "\n",
    "It seems like you're meant to use the left/right instructions to navigate the network. Perhaps if you have the camel follow the same instructions, you can escape the haunted wasteland!\n",
    "\n",
    "After examining the maps for a bit, two nodes stick out: `AAA` and `ZZZ`. You feel like AAA is where you are now, and you have to follow the left/right instructions until you reach `ZZZ`.\n",
    "\n",
    "This format defines each node of the network individually. For example:\n",
    "\n",
    "```\n",
    "RL\n",
    "\n",
    "AAA = (BBB, CCC)\n",
    "BBB = (DDD, EEE)\n",
    "CCC = (ZZZ, GGG)\n",
    "DDD = (DDD, DDD)\n",
    "EEE = (EEE, EEE)\n",
    "GGG = (GGG, GGG)\n",
    "ZZZ = (ZZZ, ZZZ)\n",
    "```\n",
    "\n",
    "Starting with `AAA`, you need to look up the next element based on the next left/right instruction in your input. In this example, start with `AAA` and go right (`R`) by choosing the right element of `AAA`, `CCC`. Then, `L` means to choose the left element of `CCC`, `ZZZ`. By following the left/right instructions, you reach `ZZZ` in 2 steps.\n",
    "\n",
    "Of course, you might not find `ZZZ` right away. If you run out of left/right instructions, repeat the whole sequence of instructions as necessary: `RL` really means `RLRLRLRLRLRLRLRL...` and so on. For example, here is a situation that takes `6` steps to reach `ZZZ`:\n",
    "\n",
    "```\n",
    "LLR\n",
    "\n",
    "AAA = (BBB, BBB)\n",
    "BBB = (AAA, ZZZ)\n",
    "ZZZ = (ZZZ, ZZZ)\n",
    "```\n",
    "\n",
    "Starting at `AAA`, follow the left/right instructions. How many steps are required to reach `ZZZ`?"
   ]
  },
  {
   "cell_type": "code",
   "execution_count": 59,
   "metadata": {},
   "outputs": [],
   "source": [
    "import re\n",
    "\n",
    "with open(\"data/day08_input.txt\", 'r') as f:\n",
    "    data = f.read().splitlines()\n",
    "\n",
    "instructions = list(data[0])\n",
    "\n",
    "map = {}\n",
    "\n",
    "for row in data[2:]:\n",
    "    words = re.findall(r'\\b\\w+\\b', row)\n",
    "    map[words[0]] = { 'L' : words[1], 'R' : words[2] }"
   ]
  },
  {
   "cell_type": "code",
   "execution_count": 36,
   "metadata": {},
   "outputs": [
    {
     "name": "stdout",
     "output_type": "stream",
     "text": [
      "14257\n"
     ]
    }
   ],
   "source": [
    "dest = 'AAA' # start at the first key\n",
    "steps = 0\n",
    "instr_idx = 0\n",
    "while dest != 'ZZZ':\n",
    "    steps += 1\n",
    "    instr = str(instructions[instr_idx])\n",
    "    dest = str(map[dest][instr])\n",
    "        \n",
    "    instr_idx = (instr_idx + 1) % (len(instructions))\n",
    "\n",
    "print(steps)"
   ]
  },
  {
   "cell_type": "markdown",
   "metadata": {},
   "source": [
    "## Part two\n",
    "\n",
    "The sandstorm is upon you and you aren't any closer to escaping the wasteland. You had the camel follow the instructions, but you've barely left your starting position. It's going to take significantly more steps to escape!\n",
    "\n",
    "What if the map isn't for people - what if the map is for ghosts? Are ghosts even bound by the laws of spacetime? Only one way to find out.\n",
    "\n",
    "After examining the maps a bit longer, your attention is drawn to a curious fact: the number of nodes with names ending in `A` is equal to the number ending in `Z`! If you were a ghost, you'd probably just start at every node that ends with `A` and follow all of the paths at the same time until they all simultaneously end up at nodes that end with `Z`.\n",
    "\n",
    "For example:\n",
    "\n",
    "```\n",
    "LR\n",
    "\n",
    "11A = (11B, XXX)\n",
    "11B = (XXX, 11Z)\n",
    "11Z = (11B, XXX)\n",
    "22A = (22B, XXX)\n",
    "22B = (22C, 22C)\n",
    "22C = (22Z, 22Z)\n",
    "22Z = (22B, 22B)\n",
    "XXX = (XXX, XXX)\n",
    "```\n",
    "\n",
    "Here, there are two starting nodes, `11A` and `22A` (because they both end with `A`). As you follow each left/right instruction, use that instruction to simultaneously navigate away from both nodes you're currently on. Repeat this process until all of the nodes you're currently on end with `Z`. (If only some of the nodes you're on end with `Z`, they act like any other node and you continue as normal.) In this example, you would proceed as follows:\n",
    "\n",
    "- Step 0: You are at `11A` and `22A`.\n",
    "- Step 1: You choose all of the left paths, leading you to `11B` and `22B`.\n",
    "- Step 2: You choose all of the right paths, leading you to `11Z` and `22C`.\n",
    "- Step 3: You choose all of the left paths, leading you to `11B` and `22Z`.\n",
    "- Step 4: You choose all of the right paths, leading you to `11Z` and `22B`.\n",
    "- Step 5: You choose all of the left paths, leading you to `11B` and `22C`.\n",
    "- Step 6: You choose all of the right paths, leading you to `11Z` and `22Z`.\n",
    "\n",
    "So, in this example, you end up entirely on nodes that end in `Z` after `6` steps.\n",
    "\n",
    "Simultaneously start on every node that ends with `A`. How many steps does it take before you're only on nodes that end with `Z`?"
   ]
  },
  {
   "cell_type": "code",
   "execution_count": 66,
   "metadata": {},
   "outputs": [
    {
     "name": "stdout",
     "output_type": "stream",
     "text": [
      "16187743689077\n"
     ]
    }
   ],
   "source": [
    "dest_arr = [key for key in map.keys() if key.endswith('A')]\n",
    "steps_arr = []\n",
    "instr_idx = 0\n",
    "\n",
    "for dest in dest_arr:\n",
    "    steps = 0\n",
    "    while not dest.endswith('Z'):\n",
    "        steps += 1\n",
    "        instr = str(instructions[instr_idx])\n",
    "        dest = str(map[dest][instr])\n",
    "            \n",
    "        instr_idx = (instr_idx + 1) % (len(instructions))\n",
    "\n",
    "    steps_arr.append(steps)\n",
    "\n",
    "# to speed up the process, we can calculate the LCM of the steps (least common multiple)\n",
    "import math\n",
    "from functools import reduce\n",
    "\n",
    "def lcm(a, b):\n",
    "    return abs(a*b) // math.gcd(a, b)\n",
    "\n",
    "def lcm_array(arr):\n",
    "    return reduce(lcm, arr)\n",
    "\n",
    "lcm_result = lcm_array(steps_arr)\n",
    "print(lcm_result)"
   ]
  }
 ],
 "metadata": {
  "kernelspec": {
   "display_name": "Python 3",
   "language": "python",
   "name": "python3"
  },
  "language_info": {
   "codemirror_mode": {
    "name": "ipython",
    "version": 3
   },
   "file_extension": ".py",
   "mimetype": "text/x-python",
   "name": "python",
   "nbconvert_exporter": "python",
   "pygments_lexer": "ipython3",
   "version": "3.10.12"
  }
 },
 "nbformat": 4,
 "nbformat_minor": 2
}
