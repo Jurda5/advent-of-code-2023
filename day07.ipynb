{
 "cells": [
  {
   "cell_type": "code",
   "execution_count": 11,
   "metadata": {},
   "outputs": [],
   "source": [
    "import pandas as pd\n",
    "from collections import Counter\n",
    "\n",
    "class HandOfCards():\n",
    "    card_order_without_jokers = {'A':14, 'K':13, 'Q':12, 'J':11, 'T':10, '9':9, '8':8, '7':7, '6':6, '5':5, '4':4, '3':3, '2':2}\n",
    "    card_order_with_jokers = {'A':14, 'K':13, 'Q':12, 'T':10, '9':9, '8':8, '7':7, '6':6, '5':5, '4':4, '3':3, '2':2, 'J':1}\n",
    "\n",
    "    def __init__(self, hand, bid, jokers=False):\n",
    "        self.hand = list(hand)\n",
    "        self.bid = bid\n",
    "        self.jokers = jokers\n",
    "        self.type = self.hand_type()\n",
    "        self.card_order = self.card_order_without_jokers if not jokers else self.card_order_with_jokers\n",
    "\n",
    "    def hand_type(self):\n",
    "\n",
    "        counts = Counter(self.hand)\n",
    "        counts_values = list(counts.values())\n",
    "        counts_values.sort(reverse=True)\n",
    "\n",
    "        if counts_values == [5]:\n",
    "            return 7\n",
    "        elif counts_values == [4, 1]:\n",
    "            if self.jokers and (counts['J'] == 1 or counts['J'] == 4):\n",
    "                return 7\n",
    "            return 6\n",
    "        elif counts_values == [3, 2]:\n",
    "            if self.jokers and (counts['J'] == 2 or counts['J'] == 3):\n",
    "                return 7\n",
    "            return 5\n",
    "        elif counts_values == [3, 1, 1]:\n",
    "            if self.jokers and (counts['J'] == 1 or counts['J'] == 3):\n",
    "                return 6\n",
    "            return 4\n",
    "        elif counts_values == [2, 2, 1]:\n",
    "            if self.jokers and counts['J'] == 1:\n",
    "                return 5\n",
    "            if self.jokers and counts['J'] == 2:\n",
    "                return 6\n",
    "            return 3\n",
    "        elif counts_values == [2, 1, 1, 1]:\n",
    "            if self.jokers and (counts['J'] == 1 or counts['J'] == 2):\n",
    "                return 4\n",
    "            return 2\n",
    "        else:\n",
    "            if self.jokers and counts['J'] == 1:\n",
    "                return 2\n",
    "            return 1\n",
    "\n",
    "\n",
    "    def __lt__(self, other):\n",
    "        if self.type == other.type:\n",
    "            for i, card in enumerate(self.hand):\n",
    "                if self.card_order[card] != self.card_order[other.hand[i]]:\n",
    "                    return self.card_order[card] < self.card_order[other.hand[i]]\n",
    "        return self.type < other.type\n",
    "\n",
    "    def __gt__(self, other):\n",
    "        if self.type == other.type:\n",
    "            for i, card in enumerate(self.hand):\n",
    "                if self.card_order[card] != self.card_order[other.hand[i]]:\n",
    "                    return self.card_order[card] > self.card_order[other.hand[i]]\n",
    "        return self.type > other.type\n",
    "\n",
    "    def __eq__(self, other):\n",
    "        if self.type == other.type:\n",
    "            for i, card in enumerate(self.hand):\n",
    "                if self.card_order[card] != self.card_order[other.hand[i]]:\n",
    "                    return False\n",
    "            return True\n",
    "\n",
    "    def __ne__(self, other):\n",
    "        return self.type != other.type\n",
    "    \n",
    "    def __str__(self):\n",
    "        return \"hand: \" + str(self.hand) + \" bid: \" + str(self.bid) + \" value: \" + str(self.value)"
   ]
  },
  {
   "cell_type": "code",
   "execution_count": 12,
   "metadata": {},
   "outputs": [
    {
     "name": "stdout",
     "output_type": "stream",
     "text": [
      "249204891\n"
     ]
    }
   ],
   "source": [
    "# load data\n",
    "df = pd.read_csv('data/day07_input.txt', sep=\" \", header=None)\n",
    "df.columns = ['hand', 'bid']\n",
    "\n",
    "# create list of hands of cards\n",
    "handsOfCards = list([handOfCard for handOfCard in df.apply(lambda row: HandOfCards(row['hand'], row['bid']), axis=1)])\n",
    "handsOfCards.sort(reverse=True)\n",
    "\n",
    "sum = 0\n",
    "rank = len(handsOfCards)\n",
    "\n",
    "for handOfCard in handsOfCards:\n",
    "    # print(handOfCard)\n",
    "    sum += handOfCard.bid * rank\n",
    "    rank -= 1\n",
    "\n",
    "print(sum)"
   ]
  },
  {
   "cell_type": "markdown",
   "metadata": {},
   "source": [
    "## Part two\n",
    "\n",
    "To make things a little more interesting, the Elf introduces one additional rule. Now, `J` cards are jokers - wildcards that can act like whatever card would make the hand the strongest type possible.\n",
    "\n",
    "To balance this, `J` cards are now the weakest individual cards, weaker even than `2`. The other cards stay in the same order: `A`, `K`, `Q`, `T`, `9`, `8`, `7`, `6`, `5`, `4`, `3`, `2`, `J`.\n",
    "\n",
    "J cards can pretend to be whatever card is best for the purpose of determining hand type; for example, QJJQ2 is now considered four of a kind. However, for the purpose of breaking ties between two hands of the same type, J is always treated as `J`, not the card it's pretending to be: `JKKK2` is weaker than `QQQQ2` because `J` is weaker than `Q`.\n",
    "\n",
    "Now, the above example goes very differently:\n",
    "\n",
    "```\n",
    "32T3K 765\n",
    "T55J5 684\n",
    "KK677 28\n",
    "KTJJT 220\n",
    "QQQJA 483\n",
    "```\n",
    "\n",
    "- `32T3K` is still the only one pair; it doesn't contain any jokers, so its strength doesn't increase.\n",
    "- `KK677` is now the only two pair, making it the second-weakest hand.\n",
    "- `T55J5`, `KTJJT`, and `QQQJA` are now all four of a kind! `T55J5` gets rank 3, `QQQJA` gets rank 4, and `KTJJT` gets rank 5.\n",
    "\n",
    "With the new joker rule, the total winnings in this example are `5905`.\n",
    "\n",
    "Using the new joker rule, find the rank of every hand in your set. What are the new total winnings?"
   ]
  },
  {
   "cell_type": "code",
   "execution_count": 13,
   "metadata": {},
   "outputs": [
    {
     "name": "stdout",
     "output_type": "stream",
     "text": [
      "249666369\n"
     ]
    }
   ],
   "source": [
    "# load data\n",
    "df = pd.read_csv('data/day07_input.txt', sep=\" \", header=None)\n",
    "df.columns = ['hand', 'bid']\n",
    "\n",
    "# create list of hands of cards\n",
    "handsOfCards = list([handOfCard for handOfCard in df.apply(lambda row: HandOfCards(row['hand'], row['bid'], jokers=True), axis=1)])\n",
    "handsOfCards.sort(reverse=True)\n",
    "\n",
    "sum = 0\n",
    "rank = len(handsOfCards)\n",
    "\n",
    "for handOfCard in handsOfCards:\n",
    "    # print(handOfCard)\n",
    "    sum += handOfCard.bid * rank\n",
    "    rank -= 1\n",
    "\n",
    "print(sum)"
   ]
  }
 ],
 "metadata": {
  "kernelspec": {
   "display_name": "Python 3",
   "language": "python",
   "name": "python3"
  },
  "language_info": {
   "codemirror_mode": {
    "name": "ipython",
    "version": 3
   },
   "file_extension": ".py",
   "mimetype": "text/x-python",
   "name": "python",
   "nbconvert_exporter": "python",
   "pygments_lexer": "ipython3",
   "version": "3.10.12"
  }
 },
 "nbformat": 4,
 "nbformat_minor": 2
}
